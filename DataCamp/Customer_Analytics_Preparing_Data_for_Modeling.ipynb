{
  "cells": [
    {
      "source": [
        "![Two data scientists working on a dashboard.](hr-image-small.png)\n",
        "A common problem when creating models to generate business value from data is that the datasets can be so large that it can take days for the model to generate predictions. Ensuring that your dataset is stored as efficiently as possible is crucial for allowing these models to run on a more reasonable timescale without having to reduce the size of the dataset.\n",
        "\n",
        "You've been hired by a major online data science training provider called *Training Data Ltd.* to clean up one of their largest customer datasets. This dataset will eventually be used to predict whether their students are looking for a new job or not, information that they will then use to direct them to prospective recruiters.\n",
        "\n",
        "You've been given access to `customer_train.csv`, which is a subset of their entire customer dataset, so you can create a proof-of-concept of a much more efficient storage solution. The dataset contains anonymized student information, and whether they were looking for a new job or not during training:\n",
        "\n",
        "| Column                   | Description                                                                      |\n",
        "|------------------------- |--------------------------------------------------------------------------------- |\n",
        "| `student_id`             | A unique ID for each student.                                                    |\n",
        "| `city`                   | A code for the city the student lives in.                                        |\n",
        "| `city_development_index` | A scaled development index for the city.                                         |\n",
        "| `gender`                 | The student's gender.                                                            |\n",
        "| `relevant_experience`    | An indicator of the student's work relevant experience.                          |\n",
        "| `enrolled_university`    | The type of university course enrolled in (if any).                              |\n",
        "| `education_level`        | The student's education level.                                                   |\n",
        "| `major_discipline`       | The educational discipline of the student.                                       |\n",
        "| `experience`             | The student's total work experience (in years).                                  |\n",
        "| `company_size`           | The number of employees at the student's current employer.                       |\n",
        "| `company_type`           | The type of company employing the student.                                       |\n",
        "| `last_new_job`           | The number of years between the student's current and previous jobs.             |\n",
        "| `training_hours`         | The number of hours of training completed.                                       |\n",
        "| `job_change`             | An indicator of whether the student is looking for a new job (`1`) or not (`0`). |"
      ],
      "metadata": {
        "id": "a09e6d54-bf3f-4632-b299-bd49d5c80d5f"
      },
      "id": "a09e6d54-bf3f-4632-b299-bd49d5c80d5f",
      "cell_type": "markdown"
    },
    {
      "source": [
        "## **Project Instructions**"
      ],
      "metadata": {
        "id": "3cfca4d5-f647-4a6d-8526-e63b36e69d06"
      },
      "cell_type": "markdown",
      "id": "3cfca4d5-f647-4a6d-8526-e63b36e69d06"
    },
    {
      "source": [
        "The Head Data Scientist at Training Data Ltd. has asked you to create a DataFrame called **`ds_jobs_transformed`** that stores the data in **`customer_train.csv`** much more efficiently. Specifically, they have set the following requirements:\n",
        "\n",
        "- Columns containing categories with only two factors must be stored as Booleans (**`bool`**).\n",
        "- Columns containing integers only must be stored as 32-bit integers (**`int32`**).\n",
        "- Columns containing floats must be stored as 16-bit floats (**`float16`**).\n",
        "- Columns containing nominal categorical data must be stored as the **`category`** data type.\n",
        "- Columns containing ordinal categorical data must be stored as ordered categories, and not mapped to numerical values, with an order that reflects the natural order of the column.\n",
        "- The DataFrame should be filtered to only contain students with _10 or more years_ of experience at companies with at _least 1000 employees_, as their recruiter base is suited to more experienced professionals at enterprise companies.\n",
        "\n",
        "If you call **`.info()`** or **`.memory_usage()`** methods on **`ds_jobs`** and **`ds_jobs_transformed`** after you've preprocessed it, you should notice a substantial decrease in memory usage."
      ],
      "metadata": {
        "id": "9087ba16-64fa-4149-9e7c-57da7aeae575"
      },
      "cell_type": "markdown",
      "id": "9087ba16-64fa-4149-9e7c-57da7aeae575"
    },
    {
      "source": [
        "# Import necessary libraries\n",
        "import pandas as pd\n",
        "\n",
        "# Load the dataset\n",
        "ds_jobs = pd.read_csv(\"customer_train.csv\")\n",
        "\n",
        "# View the dataset\n",
        "ds_jobs.head()"
      ],
      "metadata": {
        "executionCancelledAt": null,
        "executionTime": 63,
        "lastExecutedAt": 1725096711401,
        "lastExecutedByKernel": "e21a3c92-fb14-4084-94f7-20203a1f9f56",
        "lastScheduledRunId": null,
        "lastSuccessfullyExecutedCode": "# Import necessary libraries\nimport pandas as pd\n\n# Load the dataset\nds_jobs = pd.read_csv(\"customer_train.csv\")\n\n# View the dataset\nds_jobs.head()",
        "outputsMetadata": {
          "0": {
            "height": 208,
            "type": "dataFrame"
          }
        },
        "id": "eda9c1b2-4e9a-41ac-8da6-d4c98775f986",
        "outputId": "5bc65c63-cdbd-43fa-df57-2a1b0bdde69d"
      },
      "id": "eda9c1b2-4e9a-41ac-8da6-d4c98775f986",
      "cell_type": "code",
      "execution_count": null,
      "outputs": [
        {
          "output_type": "execute_result",
          "data": {
            "application/com.datacamp.data-table.v2+json": {
              "table": {
                "schema": {
                  "fields": [
                    {
                      "name": "index",
                      "type": "integer"
                    },
                    {
                      "name": "student_id",
                      "type": "integer"
                    },
                    {
                      "name": "city",
                      "type": "string"
                    },
                    {
                      "name": "city_development_index",
                      "type": "number"
                    },
                    {
                      "name": "gender",
                      "type": "string"
                    },
                    {
                      "name": "relevant_experience",
                      "type": "string"
                    },
                    {
                      "name": "enrolled_university",
                      "type": "string"
                    },
                    {
                      "name": "education_level",
                      "type": "string"
                    },
                    {
                      "name": "major_discipline",
                      "type": "string"
                    },
                    {
                      "name": "experience",
                      "type": "string"
                    },
                    {
                      "name": "company_size",
                      "type": "string"
                    },
                    {
                      "name": "company_type",
                      "type": "string"
                    },
                    {
                      "name": "last_new_job",
                      "type": "string"
                    },
                    {
                      "name": "training_hours",
                      "type": "integer"
                    },
                    {
                      "name": "job_change",
                      "type": "number"
                    }
                  ],
                  "primaryKey": [
                    "index"
                  ],
                  "pandas_version": "1.4.0"
                },
                "data": {
                  "index": [
                    0,
                    1,
                    2,
                    3,
                    4
                  ],
                  "student_id": [
                    8949,
                    29725,
                    11561,
                    33241,
                    666
                  ],
                  "city": [
                    "city_103",
                    "city_40",
                    "city_21",
                    "city_115",
                    "city_162"
                  ],
                  "city_development_index": [
                    0.92,
                    0.776,
                    0.624,
                    0.789,
                    0.767
                  ],
                  "gender": [
                    "Male",
                    "Male",
                    null,
                    null,
                    "Male"
                  ],
                  "relevant_experience": [
                    "Has relevant experience",
                    "No relevant experience",
                    "No relevant experience",
                    "No relevant experience",
                    "Has relevant experience"
                  ],
                  "enrolled_university": [
                    "no_enrollment",
                    "no_enrollment",
                    "Full time course",
                    null,
                    "no_enrollment"
                  ],
                  "education_level": [
                    "Graduate",
                    "Graduate",
                    "Graduate",
                    "Graduate",
                    "Masters"
                  ],
                  "major_discipline": [
                    "STEM",
                    "STEM",
                    "STEM",
                    "Business Degree",
                    "STEM"
                  ],
                  "experience": [
                    ">20",
                    "15",
                    "5",
                    "<1",
                    ">20"
                  ],
                  "company_size": [
                    null,
                    "50-99",
                    null,
                    null,
                    "50-99"
                  ],
                  "company_type": [
                    null,
                    "Pvt Ltd",
                    null,
                    "Pvt Ltd",
                    "Funded Startup"
                  ],
                  "last_new_job": [
                    "1",
                    ">4",
                    "never",
                    "never",
                    "4"
                  ],
                  "training_hours": [
                    36,
                    47,
                    83,
                    52,
                    8
                  ],
                  "job_change": [
                    1,
                    0,
                    0,
                    1,
                    0
                  ]
                }
              },
              "total_rows": 5,
              "truncation_type": null
            },
            "text/plain": "   student_id      city  ...  training_hours job_change\n0        8949  city_103  ...              36        1.0\n1       29725   city_40  ...              47        0.0\n2       11561   city_21  ...              83        0.0\n3       33241  city_115  ...              52        1.0\n4         666  city_162  ...               8        0.0\n\n[5 rows x 14 columns]",
            "text/html": "<div>\n<style scoped>\n    .dataframe tbody tr th:only-of-type {\n        vertical-align: middle;\n    }\n\n    .dataframe tbody tr th {\n        vertical-align: top;\n    }\n\n    .dataframe thead th {\n        text-align: right;\n    }\n</style>\n<table border=\"1\" class=\"dataframe\">\n  <thead>\n    <tr style=\"text-align: right;\">\n      <th></th>\n      <th>student_id</th>\n      <th>city</th>\n      <th>city_development_index</th>\n      <th>gender</th>\n      <th>relevant_experience</th>\n      <th>enrolled_university</th>\n      <th>education_level</th>\n      <th>major_discipline</th>\n      <th>experience</th>\n      <th>company_size</th>\n      <th>company_type</th>\n      <th>last_new_job</th>\n      <th>training_hours</th>\n      <th>job_change</th>\n    </tr>\n  </thead>\n  <tbody>\n    <tr>\n      <th>0</th>\n      <td>8949</td>\n      <td>city_103</td>\n      <td>0.920</td>\n      <td>Male</td>\n      <td>Has relevant experience</td>\n      <td>no_enrollment</td>\n      <td>Graduate</td>\n      <td>STEM</td>\n      <td>&gt;20</td>\n      <td>NaN</td>\n      <td>NaN</td>\n      <td>1</td>\n      <td>36</td>\n      <td>1.0</td>\n    </tr>\n    <tr>\n      <th>1</th>\n      <td>29725</td>\n      <td>city_40</td>\n      <td>0.776</td>\n      <td>Male</td>\n      <td>No relevant experience</td>\n      <td>no_enrollment</td>\n      <td>Graduate</td>\n      <td>STEM</td>\n      <td>15</td>\n      <td>50-99</td>\n      <td>Pvt Ltd</td>\n      <td>&gt;4</td>\n      <td>47</td>\n      <td>0.0</td>\n    </tr>\n    <tr>\n      <th>2</th>\n      <td>11561</td>\n      <td>city_21</td>\n      <td>0.624</td>\n      <td>NaN</td>\n      <td>No relevant experience</td>\n      <td>Full time course</td>\n      <td>Graduate</td>\n      <td>STEM</td>\n      <td>5</td>\n      <td>NaN</td>\n      <td>NaN</td>\n      <td>never</td>\n      <td>83</td>\n      <td>0.0</td>\n    </tr>\n    <tr>\n      <th>3</th>\n      <td>33241</td>\n      <td>city_115</td>\n      <td>0.789</td>\n      <td>NaN</td>\n      <td>No relevant experience</td>\n      <td>NaN</td>\n      <td>Graduate</td>\n      <td>Business Degree</td>\n      <td>&lt;1</td>\n      <td>NaN</td>\n      <td>Pvt Ltd</td>\n      <td>never</td>\n      <td>52</td>\n      <td>1.0</td>\n    </tr>\n    <tr>\n      <th>4</th>\n      <td>666</td>\n      <td>city_162</td>\n      <td>0.767</td>\n      <td>Male</td>\n      <td>Has relevant experience</td>\n      <td>no_enrollment</td>\n      <td>Masters</td>\n      <td>STEM</td>\n      <td>&gt;20</td>\n      <td>50-99</td>\n      <td>Funded Startup</td>\n      <td>4</td>\n      <td>8</td>\n      <td>0.0</td>\n    </tr>\n  </tbody>\n</table>\n</div>"
          },
          "metadata": {},
          "execution_count": 17
        }
      ]
    },
    {
      "source": [
        "# Create a copy of ds_jobs for transforming\n",
        "ds_jobs_transformed = ds_jobs.copy()\n",
        "\n",
        "# View ds_jobs_transformed information\n",
        "ds_jobs_transformed.info()"
      ],
      "metadata": {
        "executionCancelledAt": null,
        "executionTime": 48,
        "lastExecutedAt": 1725096711449,
        "lastExecutedByKernel": "e21a3c92-fb14-4084-94f7-20203a1f9f56",
        "lastScheduledRunId": null,
        "lastSuccessfullyExecutedCode": "# Create a copy of ds_jobs for transforming\nds_jobs_transformed = ds_jobs.copy()\n\n# View ds_jobs_transformed information\nds_jobs_transformed.info()",
        "outputsMetadata": {
          "0": {
            "height": 285,
            "type": "stream"
          }
        },
        "id": "13757e62-aca2-48f4-b569-a838af11bdd5",
        "outputId": "662dc7a7-9fe6-41e0-9218-25d9bcc6e718"
      },
      "id": "13757e62-aca2-48f4-b569-a838af11bdd5",
      "cell_type": "code",
      "execution_count": null,
      "outputs": [
        {
          "output_type": "stream",
          "name": "stdout",
          "text": "<class 'pandas.core.frame.DataFrame'>\nRangeIndex: 19158 entries, 0 to 19157\nData columns (total 14 columns):\n #   Column                  Non-Null Count  Dtype  \n---  ------                  --------------  -----  \n 0   student_id              19158 non-null  int64  \n 1   city                    19158 non-null  object \n 2   city_development_index  19158 non-null  float64\n 3   gender                  14650 non-null  object \n 4   relevant_experience     19158 non-null  object \n 5   enrolled_university     18772 non-null  object \n 6   education_level         18698 non-null  object \n 7   major_discipline        16345 non-null  object \n 8   experience              19093 non-null  object \n 9   company_size            13220 non-null  object \n 10  company_type            13018 non-null  object \n 11  last_new_job            18735 non-null  object \n 12  training_hours          19158 non-null  int64  \n 13  job_change              19158 non-null  float64\ndtypes: float64(2), int64(2), object(10)\nmemory usage: 2.0+ MB\n"
        }
      ]
    },
    {
      "source": [
        "ds_jobs_transformed.relevant_experience.value_counts()\n",
        "\n",
        "# int type\n",
        "# training_hours,student_id\n",
        "\n",
        "# float type\n",
        "# city_development_index\n",
        "\n",
        "# bool type\n",
        "# relevant_experience,job_change\n",
        "\n",
        "# ordered category\n",
        "# company_size,last_new_job,experience\n",
        "\n",
        "# category type\n",
        "# enrolled_university,education_level,major_discipline,company_type,gender,city"
      ],
      "metadata": {
        "executionCancelledAt": null,
        "executionTime": 52,
        "lastExecutedAt": 1725096711501,
        "lastExecutedByKernel": "e21a3c92-fb14-4084-94f7-20203a1f9f56",
        "lastScheduledRunId": null,
        "lastSuccessfullyExecutedCode": "ds_jobs_transformed.relevant_experience.value_counts()\n\n# int type\n# training_hours,student_id\n\n# float type\n# city_development_index\n\n# bool type\n# relevant_experience,job_change\n\n# ordered category\n# company_size,last_new_job,experience\n\n# category type\n# enrolled_university,education_level,major_discipline,company_type,gender,city",
        "outputsMetadata": {
          "0": {
            "height": 120,
            "type": "dataFrame"
          }
        },
        "id": "fa10558d-7ce4-4c52-b2ad-8a3a306cabca",
        "outputId": "6281aecb-781f-40e8-c7d9-48db5837afd5"
      },
      "cell_type": "code",
      "id": "fa10558d-7ce4-4c52-b2ad-8a3a306cabca",
      "outputs": [
        {
          "output_type": "execute_result",
          "data": {
            "application/com.datacamp.data-table.v2+json": {
              "table": {
                "schema": {
                  "fields": [
                    {
                      "name": "index",
                      "type": "string"
                    },
                    {
                      "name": "relevant_experience",
                      "type": "integer"
                    }
                  ],
                  "primaryKey": [
                    "index"
                  ],
                  "pandas_version": "1.4.0"
                },
                "data": {
                  "index": [
                    "Has relevant experience",
                    "No relevant experience"
                  ],
                  "relevant_experience": [
                    13792,
                    5366
                  ]
                }
              },
              "total_rows": 2,
              "truncation_type": null
            },
            "text/plain": "Has relevant experience    13792\nNo relevant experience      5366\nName: relevant_experience, dtype: int64"
          },
          "metadata": {},
          "execution_count": 19
        }
      ],
      "execution_count": null
    },
    {
      "source": [
        "*   ### Columns containing integers only must be stored as 32-bit integers (**`int32`**).\n",
        "\n",
        "\n"
      ],
      "metadata": {
        "id": "bb412641-ee6b-40f3-bbeb-c6922588303f"
      },
      "cell_type": "markdown",
      "id": "bb412641-ee6b-40f3-bbeb-c6922588303f"
    },
    {
      "source": [
        "# Convert data type to int32\n",
        "columns = ['training_hours', 'student_id']\n",
        "for col in columns:\n",
        "    ds_jobs_transformed[col] = ds_jobs_transformed[col].astype('int32')\n",
        "\n",
        "ds_jobs_transformed[columns].dtypes"
      ],
      "metadata": {
        "executionCancelledAt": null,
        "executionTime": 48,
        "lastExecutedAt": 1725096711549,
        "lastExecutedByKernel": "e21a3c92-fb14-4084-94f7-20203a1f9f56",
        "lastScheduledRunId": null,
        "lastSuccessfullyExecutedCode": "# Convert data type to int32\ncolumns = ['training_hours', 'student_id']\nfor col in columns:\n    ds_jobs_transformed[col] = ds_jobs_transformed[col].astype('int32')\n    \nds_jobs_transformed[columns].dtypes",
        "id": "380b285d-2045-4c9c-8433-0aabe30f1282",
        "outputId": "b12f96ea-369e-4194-97ab-12bc0601a533"
      },
      "cell_type": "code",
      "id": "380b285d-2045-4c9c-8433-0aabe30f1282",
      "outputs": [
        {
          "output_type": "execute_result",
          "data": {
            "text/plain": "training_hours    int32\nstudent_id        int32\ndtype: object"
          },
          "metadata": {},
          "execution_count": 20
        }
      ],
      "execution_count": null
    },
    {
      "source": [
        "- ### Columns containing nominal categorical data must be stored as the category data type."
      ],
      "metadata": {
        "id": "d67ac129-995e-4281-891c-46b706cf6c46"
      },
      "cell_type": "markdown",
      "id": "d67ac129-995e-4281-891c-46b706cf6c46"
    },
    {
      "source": [
        "# Convert data type to category\n",
        "columns = ['education_level','major_discipline','company_type','gender','city']\n",
        "for col in columns:\n",
        "    ds_jobs_transformed[col] = ds_jobs_transformed[col].astype('category')\n",
        "\n",
        "ds_jobs_transformed[columns].dtypes"
      ],
      "metadata": {
        "executionCancelledAt": null,
        "executionTime": 48,
        "lastExecutedAt": 1725096711597,
        "lastExecutedByKernel": "e21a3c92-fb14-4084-94f7-20203a1f9f56",
        "lastScheduledRunId": null,
        "lastSuccessfullyExecutedCode": "# Convert data type to category \ncolumns = ['education_level','major_discipline','company_type','gender','city']\nfor col in columns:\n    ds_jobs_transformed[col] = ds_jobs_transformed[col].astype('category')\n    \nds_jobs_transformed[columns].dtypes",
        "id": "63c02f98-38e5-437b-a3a5-4d8bc2b8ca8f",
        "outputId": "a1ced599-9f5d-48b8-c852-239d3e24be87"
      },
      "cell_type": "code",
      "id": "63c02f98-38e5-437b-a3a5-4d8bc2b8ca8f",
      "outputs": [
        {
          "output_type": "execute_result",
          "data": {
            "text/plain": "education_level     category\nmajor_discipline    category\ncompany_type        category\ngender              category\ncity                category\ndtype: object"
          },
          "metadata": {},
          "execution_count": 21
        }
      ],
      "execution_count": null
    },
    {
      "source": [
        "- ### Columns containing floats must be stored as 16-bit floats (**`float16`**)."
      ],
      "metadata": {
        "id": "5680072c-dfeb-4208-b0e8-5ca637f07c77"
      },
      "cell_type": "markdown",
      "id": "5680072c-dfeb-4208-b0e8-5ca637f07c77"
    },
    {
      "source": [
        "# Convert data type to float16\n",
        "ds_jobs_transformed['city_development_index'] = ds_jobs_transformed['city_development_index'].astype('float16')\n",
        "ds_jobs_transformed['city_development_index'].dtype"
      ],
      "metadata": {
        "executionCancelledAt": null,
        "executionTime": 48,
        "lastExecutedAt": 1725096711645,
        "lastExecutedByKernel": "e21a3c92-fb14-4084-94f7-20203a1f9f56",
        "lastScheduledRunId": null,
        "lastSuccessfullyExecutedCode": "# Convert data type to float16\nds_jobs_transformed['city_development_index'] = ds_jobs_transformed['city_development_index'].astype('float16')\nds_jobs_transformed['city_development_index'].dtype",
        "id": "71f2641b-af90-4d49-b014-833f21534ff6",
        "outputId": "63758782-8237-41c5-e028-ef8b5fdee761"
      },
      "cell_type": "code",
      "id": "71f2641b-af90-4d49-b014-833f21534ff6",
      "outputs": [
        {
          "output_type": "execute_result",
          "data": {
            "text/plain": "dtype('float16')"
          },
          "metadata": {},
          "execution_count": 22
        }
      ],
      "execution_count": null
    },
    {
      "source": [
        "- ### Columns containing categories with only two factors must be stored as Booleans (**`bool`**)."
      ],
      "metadata": {
        "id": "5a91ff7b-aaed-4dd4-9cad-29ad52e00269"
      },
      "cell_type": "markdown",
      "id": "5a91ff7b-aaed-4dd4-9cad-29ad52e00269"
    },
    {
      "source": [
        "# codes = ds_jobs_transformed['relevant_experience'].astype('category').cat.codes\n",
        "# codes\n",
        "\n",
        "# Create a mapping dictionary with 0 and 1 and using the map() method to transform the relevant_experience column\n",
        "map_dict = {'No relevant experience' : 0, 'Has relevant experience' : 1}\n",
        "ds_jobs_transformed['relevant_experience'] = ds_jobs_transformed['relevant_experience'].map(map_dict)\n",
        "\n",
        "# Convert columns to bool data type\n",
        "columns = ['relevant_experience', 'job_change']\n",
        "for col in columns:\n",
        "    ds_jobs_transformed[col] = ds_jobs_transformed[col].astype('bool')\n",
        "\n",
        "ds_jobs_transformed[columns].dtypes"
      ],
      "metadata": {
        "executionCancelledAt": null,
        "executionTime": 52,
        "lastExecutedAt": 1725096711697,
        "lastExecutedByKernel": "e21a3c92-fb14-4084-94f7-20203a1f9f56",
        "lastScheduledRunId": null,
        "lastSuccessfullyExecutedCode": "# codes = ds_jobs_transformed['relevant_experience'].astype('category').cat.codes\n# codes\n\n# Create a mapping dictionary with 0 and 1 and using the map() method to transform the relevant_experience column\nmap_dict = {'No relevant experience' : 0, 'Has relevant experience' : 1}\nds_jobs_transformed['relevant_experience'] = ds_jobs_transformed['relevant_experience'].map(map_dict)\n\n# Convert columns to bool data type\ncolumns = ['relevant_experience', 'job_change']\nfor col in columns:\n    ds_jobs_transformed[col] = ds_jobs_transformed[col].astype('bool')\n    \nds_jobs_transformed[columns].dtypes",
        "outputsMetadata": {
          "0": {
            "height": 318,
            "type": "dataFrame"
          }
        },
        "id": "47f1affb-34b9-4f27-b13a-1d4f74dd363b",
        "outputId": "81e0d8e7-c8f9-4560-9b0f-55f6fb903883"
      },
      "cell_type": "code",
      "id": "47f1affb-34b9-4f27-b13a-1d4f74dd363b",
      "outputs": [
        {
          "output_type": "execute_result",
          "data": {
            "text/plain": "relevant_experience    bool\njob_change             bool\ndtype: object"
          },
          "metadata": {},
          "execution_count": 23
        }
      ],
      "execution_count": null
    },
    {
      "source": [
        "- ### Columns containing ordinal categorical data must be stored as ordered categories, and not mapped to numerical values, with an order that reflects the natural order of the column."
      ],
      "metadata": {
        "id": "9cab4ab5-683f-4458-a514-a60bb89c6472"
      },
      "cell_type": "markdown",
      "id": "9cab4ab5-683f-4458-a514-a60bb89c6472"
    },
    {
      "source": [
        "# Create a dictionary of columns with ordered categories\n",
        "ordered_categories = {\n",
        "    'education_level': ['Primary School', 'High School', 'Graduate', 'Masters', 'Phd'],\n",
        "    'enrolled_university': ['no_enrollment', 'Part time course', 'Full time course'],\n",
        "    'experience': ['<1'] + list(map(str, range(1, 21))) + ['>20'],\n",
        "    'company_size': ['<10', '10-49', '50-99', '100-499', '500-999', '1000-4999', '5000-9999', '10000+'],\n",
        "    'last_new_job': ['never', '1', '2', '3', '4', '>4']\n",
        "}\n",
        "\n",
        "# Converting column data type to ordered category type\n",
        "for column in ordered_categories.keys():\n",
        "    ds_jobs_transformed[column] = ds_jobs_transformed[column].astype(pd.CategoricalDtype(categories = ordered_categories[column], ordered=True))"
      ],
      "metadata": {
        "executionCancelledAt": null,
        "executionTime": 51,
        "lastExecutedAt": 1725096711749,
        "lastExecutedByKernel": "e21a3c92-fb14-4084-94f7-20203a1f9f56",
        "lastScheduledRunId": null,
        "lastSuccessfullyExecutedCode": "# Create a dictionary of columns with ordered categories\nordered_categories = {\n    'education_level': ['Primary School', 'High School', 'Graduate', 'Masters', 'Phd'], \n    'enrolled_university': ['no_enrollment', 'Part time course', 'Full time course'],\n    'experience': ['<1'] + list(map(str, range(1, 21))) + ['>20'],\n    'company_size': ['<10', '10-49', '50-99', '100-499', '500-999', '1000-4999', '5000-9999', '10000+'],\n    'last_new_job': ['never', '1', '2', '3', '4', '>4']\n}\n\n# Converting column data type to ordered category type\nfor column in ordered_categories.keys():\n    ds_jobs_transformed[column] = ds_jobs_transformed[column].astype(pd.CategoricalDtype(categories = ordered_categories[column], ordered=True))",
        "id": "f0f779ba-850d-4cf4-833e-d77dfff405d5"
      },
      "cell_type": "code",
      "id": "f0f779ba-850d-4cf4-833e-d77dfff405d5",
      "outputs": [],
      "execution_count": null
    },
    {
      "source": [
        "- ### The DataFrame should be filtered to only contain students with _10 or more years_ of experience at companies with _at least 1000 employees_, as their recruiter base is suited to more experienced professionals at enterprise companies."
      ],
      "metadata": {
        "id": "4f353d55-43bd-4cec-a243-f7c86611352c"
      },
      "cell_type": "markdown",
      "id": "4f353d55-43bd-4cec-a243-f7c86611352c"
    },
    {
      "source": [
        " # Filtering on ordered categorical columns\n",
        "ds_jobs_transformed = ds_jobs_transformed[(ds_jobs_transformed['experience'] >= '10') & (ds_jobs_transformed['company_size'] >= '1000-4999')]"
      ],
      "metadata": {
        "executionCancelledAt": null,
        "executionTime": 48,
        "lastExecutedAt": 1725096711797,
        "lastExecutedByKernel": "e21a3c92-fb14-4084-94f7-20203a1f9f56",
        "lastScheduledRunId": null,
        "lastSuccessfullyExecutedCode": " # Filtering on ordered categorical columns\nds_jobs_transformed = ds_jobs_transformed[(ds_jobs_transformed['experience'] >= '10') & (ds_jobs_transformed['company_size'] >= '1000-4999')]",
        "id": "ed19c4ed-e6c2-4feb-b1a3-4bdbed9efdf8"
      },
      "cell_type": "code",
      "id": "ed19c4ed-e6c2-4feb-b1a3-4bdbed9efdf8",
      "outputs": [],
      "execution_count": null
    },
    {
      "source": [
        "- ### Call **`.info()`** or **`.memory_usage()`** methods on **`ds_jobs`** and **`ds_jobs_transformed`** to check if there is a substantial decrease in memory usage."
      ],
      "metadata": {
        "id": "659fcbec-c78e-4bd3-8c33-ed692ef4b884"
      },
      "cell_type": "markdown",
      "id": "659fcbec-c78e-4bd3-8c33-ed692ef4b884"
    },
    {
      "source": [
        "# Compare memory usage for ds_jobs and ds_jobs_transformed\n",
        "print(ds_jobs.info(verbose = False))\n",
        "print()\n",
        "print(ds_jobs_transformed.info(verbose = False))"
      ],
      "metadata": {
        "executionCancelledAt": null,
        "executionTime": 57,
        "lastExecutedAt": 1725096711854,
        "lastExecutedByKernel": "e21a3c92-fb14-4084-94f7-20203a1f9f56",
        "lastScheduledRunId": null,
        "lastSuccessfullyExecutedCode": "# Compare memory usage for ds_jobs and ds_jobs_transformed\nprint(ds_jobs.info(verbose = False))\nprint()\nprint(ds_jobs_transformed.info(verbose = False))",
        "outputsMetadata": {
          "0": {
            "height": 285,
            "type": "stream"
          }
        },
        "id": "7cd6f749-14d2-45eb-bfe3-73e14cfc1341",
        "outputId": "9cc5b126-06bc-4c50-fb39-cf84b871bb11"
      },
      "cell_type": "code",
      "id": "7cd6f749-14d2-45eb-bfe3-73e14cfc1341",
      "outputs": [
        {
          "output_type": "stream",
          "name": "stdout",
          "text": "<class 'pandas.core.frame.DataFrame'>\nRangeIndex: 19158 entries, 0 to 19157\nColumns: 14 entries, student_id to job_change\ndtypes: float64(2), int64(2), object(10)\nmemory usage: 2.0+ MB\nNone\n\n<class 'pandas.core.frame.DataFrame'>\nInt64Index: 2201 entries, 9 to 19143\nColumns: 14 entries, student_id to job_change\ndtypes: bool(2), category(9), float16(1), int32(2)\nmemory usage: 69.5 KB\nNone\n"
        }
      ],
      "execution_count": null
    },
    {
      "source": [
        "## Summary:\n",
        "- ### Exploratory data analysis\n",
        "- ### Converting integers, floats, and unordered categories\n",
        "- ### Converting ordered categories\n",
        "- ### Filtering on ordered categorical columns"
      ],
      "metadata": {
        "id": "90d34d0b-2167-4c0b-9665-3ed8353cabdb"
      },
      "cell_type": "markdown",
      "id": "90d34d0b-2167-4c0b-9665-3ed8353cabdb"
    },
    {
      "source": [
        "## Conclusion:\n",
        "### After preprocessing and filtering the **`ds_jobs_transformed`** data based on the         above requirements and comparing it with the **`ds_jobs`** data using the                   **`.info()`** method, we noticed a substantial decrease in memory usage from **`2.0+ MB`** to **`69.5 KB`**. Hence, memory usage or allocation can be efficiently manage by modifying its storage data type."
      ],
      "metadata": {
        "id": "e0b4f1c5-8f3c-42fa-a058-fd4991381122"
      },
      "cell_type": "markdown",
      "id": "e0b4f1c5-8f3c-42fa-a058-fd4991381122"
    }
  ],
  "metadata": {
    "language_info": {
      "name": "python",
      "version": "3.8.10",
      "mimetype": "text/x-python",
      "codemirror_mode": {
        "name": "ipython",
        "version": 3
      },
      "pygments_lexer": "ipython3",
      "nbconvert_exporter": "python",
      "file_extension": ".py"
    },
    "kernelspec": {
      "display_name": "Python 3 (ipykernel)",
      "language": "python",
      "name": "python3"
    },
    "editor": "DataLab",
    "colab": {
      "provenance": []
    }
  },
  "nbformat": 4,
  "nbformat_minor": 5
}